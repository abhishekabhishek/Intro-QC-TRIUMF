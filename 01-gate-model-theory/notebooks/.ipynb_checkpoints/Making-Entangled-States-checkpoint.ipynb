{
 "cells": [
  {
   "cell_type": "markdown",
   "metadata": {},
   "source": [
    "# Circuits for constructing entangled states"
   ]
  },
  {
   "cell_type": "code",
   "execution_count": null,
   "metadata": {},
   "outputs": [],
   "source": [
    "import numpy as np\n",
    "\n",
    "from qiskit import QuantumRegister, ClassicalRegister\n",
    "from qiskit import QuantumCircuit\n",
    "from qiskit import execute, BasicAer\n",
    "\n",
    "import qiskit.tools.visualization as qvis\n",
    "\n",
    "import warnings\n",
    "warnings.filterwarnings(\"ignore\", category=DeprecationWarning) "
   ]
  },
  {
   "cell_type": "markdown",
   "metadata": {},
   "source": [
    "In the lecture I showed you the entangled state\n",
    "\\begin{eqnarray}\n",
    " |\\Psi_\\rangle &=& \\frac{1}{\\sqrt{2}} \\left( |00\\rangle + |11 \\rangle \\right).\n",
    "\\end{eqnarray}\n",
    "\n",
    "But this isn't the only two-qubit entangled states. In fact, this state is just one of the four included in the so-called 'Bell basis', a set of 4 orthonormal 2-qubit entangled states. The Bell basis is especially important in the quantum teleporation protocol found in the other notebooks.\n",
    "\n",
    "Your job here is to write small quantum circuits to construct the four states in the Bell basis\n",
    "\\begin{eqnarray}\n",
    "|\\Psi_{0}\\rangle &=& \\frac{1}{\\sqrt{2}} \\left( |00\\rangle + |11 \\rangle \\right) \\\\\n",
    "|\\Psi_{1}\\rangle &=& \\frac{1}{\\sqrt{2}} \\left( |01\\rangle + |10 \\rangle \\right) \\\\\n",
    "|\\Psi_{2}\\rangle &=& \\frac{1}{\\sqrt{2}} \\left( |00\\rangle - |11 \\rangle \\right) \\\\\n",
    "|\\Psi_{3}\\rangle &=& \\frac{1}{\\sqrt{2}} \\left( |01\\rangle - |10 \\rangle \\right) \\\\\n",
    "\\end{eqnarray}\n",
    "Below is some boilerplate code for creating the circuits and outputting the state vector so you can be sure you got the right one."
   ]
  },
  {
   "cell_type": "code",
   "execution_count": null,
   "metadata": {},
   "outputs": [],
   "source": [
    "q = QuantumRegister(2, name='q')\n",
    "bell_circuit = QuantumCircuit(q)\n",
    "\n",
    "# YOUR CODE GOES HERE \n",
    "# Construct the Bell states here by applying Qiskit gates\n",
    "# You can copy the code into 4 different cells or just modify in here\n",
    "# to get the different states\n",
    "bell_circuit.h(q[0])\n",
    "bell_circuit.cx(q[0], q[1])\n",
    "\n",
    "# Draw the circuit\n",
    "print(bell_circuit.draw())\n",
    "\n",
    "# Execute the quantum circuit and print the state vector\n",
    "backend = BasicAer.get_backend('statevector_simulator')\n",
    "result = execute(bell_circuit, backend).result()\n",
    "print(\"The state vector in the computational basis is:\")\n",
    "print(result.get_statevector(bell_circuit).reshape(4, 1))"
   ]
  },
  {
   "cell_type": "markdown",
   "metadata": {},
   "source": [
    "## Higher-dimensional entangled states"
   ]
  },
  {
   "cell_type": "markdown",
   "metadata": {},
   "source": [
    "Entanglement is not limited to two qubits, but can become much more complicated as there are many different 'separability structures' that a multi-qubit entangled state can take. For example, a 3-qubit state might be a tensor product of 3 single qubit states, a tensor product of a two-qubit entangled state with a single-qubit state, or even a purely entangled 3-qubit state (i.e. 'genuine multipartite entanglement').\n",
    "\n",
    "One such state is the GHZ state,\n",
    "\\begin{equation}\n",
    " |GHZ\\rangle = \\frac{1}{\\sqrt{2}} \\left( |000\\rangle + |111\\rangle \\right)\n",
    "\\end{equation}"
   ]
  },
  {
   "cell_type": "code",
   "execution_count": null,
   "metadata": {},
   "outputs": [],
   "source": [
    "# YOUR CODE HERE\n",
    "# Create a circuit and construct the GHZ state. \n",
    "# You can copy the boilerplate code from the 2-qubit case but will of course have to\n",
    "# alter the register size and the gate sequence"
   ]
  }
 ],
 "metadata": {
  "kernelspec": {
   "display_name": "Python 3",
   "language": "python",
   "name": "python3"
  },
  "language_info": {
   "codemirror_mode": {
    "name": "ipython",
    "version": 3
   },
   "file_extension": ".py",
   "mimetype": "text/x-python",
   "name": "python",
   "nbconvert_exporter": "python",
   "pygments_lexer": "ipython3",
   "version": "3.6.6"
  }
 },
 "nbformat": 4,
 "nbformat_minor": 2
}
