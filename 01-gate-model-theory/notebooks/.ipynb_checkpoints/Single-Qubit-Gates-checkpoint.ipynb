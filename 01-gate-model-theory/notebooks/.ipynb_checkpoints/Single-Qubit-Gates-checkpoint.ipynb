{
 "cells": [
  {
   "cell_type": "markdown",
   "metadata": {},
   "source": [
    "# Playing with single-qubit gates"
   ]
  },
  {
   "cell_type": "markdown",
   "metadata": {},
   "source": [
    "In this file we will visualize the behaviour of single-qubit rotation gates. I've written out some video-making functions to make it more exciting!\n",
    "\n",
    "**Important note**: The movies created here are stored on-disk and then read into the notebook player, so this script will be creating new files and directories on your HD."
   ]
  },
  {
   "cell_type": "code",
   "execution_count": null,
   "metadata": {},
   "outputs": [],
   "source": [
    "import numpy as np\n",
    "\n",
    "from qiskit import QuantumRegister, ClassicalRegister\n",
    "from qiskit import QuantumCircuit\n",
    "from qiskit import execute, BasicAer\n",
    "\n",
    "import qiskit.tools.visualization as qvis\n",
    "\n",
    "import warnings\n",
    "warnings.filterwarnings(\"ignore\", category=DeprecationWarning) \n",
    "\n",
    "import matplotlib.pyplot as plt\n",
    "# We will run a shell command to knit the image files together\n",
    "import os\n",
    "\n",
    "# For in-notebook video display\n",
    "import io\n",
    "import base64\n",
    "from IPython.display import HTML"
   ]
  },
  {
   "cell_type": "markdown",
   "metadata": {},
   "source": [
    "This function creates a movie given a name and a sequence of angles to rotate through. You can ignore this for now, but run it so you have the function for later."
   ]
  },
  {
   "cell_type": "code",
   "execution_count": null,
   "metadata": {},
   "outputs": [],
   "source": [
    "def create_movie(name, rotation_sequence, start_from_plus = False):\n",
    "    # If start_from_plus is set to true, we'll apply a Hadamard before doing anything\n",
    "    # else so that we initialize the qubit in the |+> state \n",
    "    \n",
    "    # Create the movie directory; overwrite if one of the same name is already present\n",
    "    os.system(f\"rm -r {name}\")\n",
    "    os.system(f\"mkdir {name}\")\n",
    "\n",
    "    # Apply the rotations and save the images\n",
    "    for idx_frame, rotation in enumerate(rotation_sequence):\n",
    "        q = QuantumRegister(1)\n",
    "        circ = QuantumCircuit(q)\n",
    "\n",
    "        if start_from_plus:\n",
    "            circ.h(q)\n",
    "            \n",
    "        circ.u3(*rotation, q)\n",
    "\n",
    "        backend = BasicAer.get_backend('statevector_simulator') # the device to run on\n",
    "        result = execute(circ, backend).result()\n",
    "        psi  = result.get_statevector(circ)\n",
    "        img = qvis.plot_bloch_multivector(psi, title=f\"{name}\")\n",
    "        img.savefig(f\"{name}/{name}_{str(idx_frame)}.png\")\n",
    "        plt.show()\n",
    "\n",
    "    # Create the movie\n",
    "    os.system(f'ffmpeg -r 20 -i {name}/{name}_%01d.png {name}/{name}_animated.webm')\n",
    " \n",
    "    # Return the movie for display - thank you stackoverflow!\n",
    "    video = io.open(f'{os.getcwd()}/{name}/{name}_animated.webm', 'r+b').read()\n",
    "    encoded = base64.b64encode(video)\n",
    "    return HTML(data='''<video alt=\"test\" controls>\n",
    "                    <source src=\"data:video/webm;base64,{0}\" type=\"video/webm\" />\n",
    "                 </video>'''.format(encoded.decode('ascii')))"
   ]
  },
  {
   "cell_type": "markdown",
   "metadata": {},
   "source": [
    "In the cell below, we will choose form of our rotation and set up a series of angles to plot at. We will be using the u3 operator provided by Qiskit. u3 allows us to specify a 3 parameter rotation of the form\n",
    "\n",
    "\\begin{equation}\n",
    " u3(\\theta, \\phi, \\lambda) = \\begin{pmatrix}\n",
    "                                 \\cos(\\theta/2) & -e^{i\\lambda}\\sin(\\theta/2) \\\\\n",
    "                                 e^{i\\phi}\\sin(\\theta/2) & e^{i\\lambda + i\\phi} \\cos(\\theta/2)\n",
    "                             \\end{pmatrix}\n",
    "\\end{equation}\n",
    "\n",
    "Here are the parameterizations of u3 for the Pauli rotation gates:\n",
    "\n",
    "\\begin{eqnarray}\n",
    " R_x (\\theta) &=& u3 (\\theta, -\\pi/2, \\pi/2) \\\\\n",
    " R_y (\\theta) &=& u3 (\\theta, 0, 0) \\\\\n",
    " R_z (\\theta) &=& u3 (0, 0, \\theta)\n",
    "\\end{eqnarray}\n",
    "\n",
    "We can use these three alone to produce most of our universal gate set. For the Hadamard, though, we need something extra because it is not a rotation around one of the Cartesian axes. (It is in fact a rotation around $\\hat{x} + \\hat{z}$).\n",
    "\n",
    "\\begin{equation}\n",
    " H = u3(\\pi/2, 0, \\pi)\n",
    "\\end{equation}"
   ]
  },
  {
   "cell_type": "code",
   "execution_count": null,
   "metadata": {},
   "outputs": [],
   "source": [
    "# An X rotation\n",
    "rotation_angle = np.pi\n",
    "name = \"x_gate\" \n",
    "num_frames = 40 \n",
    "intermediate_angles = np.linspace(0, rotation_angle, num_frames)\n",
    "rotation_sequence = [(theta, -np.pi/2, np.pi/2) for theta in intermediate_angles] # The form of the tuple here specifies which gate you perform\n",
    "\n",
    "create_movie(name, rotation_sequence)"
   ]
  },
  {
   "cell_type": "code",
   "execution_count": null,
   "metadata": {},
   "outputs": [],
   "source": [
    "# A Y rotation\n",
    "rotation_angle = np.pi\n",
    "name = \"y_rotation\" \n",
    "num_frames = 40 \n",
    "intermediate_angles = np.linspace(0, rotation_angle, num_frames)\n",
    "rotation_sequence = [(theta, 0, 0) for theta in intermediate_angles] # The form of the tuple here specifies which gate you perform\n",
    "\n",
    "create_movie(name, rotation_sequence)"
   ]
  },
  {
   "cell_type": "code",
   "execution_count": null,
   "metadata": {},
   "outputs": [],
   "source": [
    "# A Z rotation\n",
    "rotation_angle = np.pi\n",
    "name = \"z_rotation\" \n",
    "num_frames = 40 \n",
    "intermediate_angles = np.linspace(0, rotation_angle, num_frames)\n",
    "rotation_sequence = [(0, 0, theta) for theta in intermediate_angles] # The form of the tuple here specifies which gate you perform\n",
    "\n",
    "create_movie(name, rotation_sequence, start_from_plus=True)"
   ]
  },
  {
   "cell_type": "code",
   "execution_count": null,
   "metadata": {},
   "outputs": [],
   "source": [
    "# S gate\n",
    "rotation_angle = np.pi/2\n",
    "name = \"s_gate\" \n",
    "num_frames = 40 \n",
    "intermediate_angles = np.linspace(0, rotation_angle, num_frames)\n",
    "rotation_sequence = [(0, 0, theta) for theta in intermediate_angles] # The form of the tuple here specifies which gate you perform\n",
    "\n",
    "create_movie(name, rotation_sequence, start_from_plus=True)"
   ]
  },
  {
   "cell_type": "code",
   "execution_count": null,
   "metadata": {},
   "outputs": [],
   "source": [
    "# T gate\n",
    "rotation_angle = np.pi/4\n",
    "name = \"t_gate\" \n",
    "num_frames = 40 \n",
    "intermediate_angles = np.linspace(0, rotation_angle, num_frames)\n",
    "rotation_sequence = [(0, 0, theta) for theta in intermediate_angles] # The form of the tuple here specifies which gate you perform\n",
    "\n",
    "create_movie(name, rotation_sequence, start_from_plus=True)"
   ]
  },
  {
   "cell_type": "markdown",
   "metadata": {},
   "source": [
    "To animate the Hadamard matrix, which is not an $x$, $y$, or $z$ rotation alone, we will need to use the general form of a unitary that creates a superposition. From the Qiskit documentation, that is $u3(\\pi/2, \\phi, \\lambda)$:\n",
    "\\begin{equation}\n",
    "  u3(\\pi/2, \\phi, \\lambda) = \\frac{1}{\\sqrt{2}} \\begin{pmatrix}\n",
    "                                                  1 & -e^{-i\\lambda} \\\\\n",
    "                                                  e^{i\\phi} & e^{i(\\phi+\\lambda)}\n",
    "                                                  \\end{pmatrix}\n",
    "\\end{equation}\n",
    "To get the Hadamard, we will need to play with the second *and* third parameters of the tuple going from 0 to $\\pi$."
   ]
  },
  {
   "cell_type": "code",
   "execution_count": null,
   "metadata": {},
   "outputs": [],
   "source": [
    "# Hadamard rotation\n",
    "name = \"hadamard_gate\" \n",
    "num_frames = 40 \n",
    "intermediate_angles_x = np.linspace(0, np.pi/2, num_frames)\n",
    "intermediate_angles_y = np.linspace(-np.pi/2, 0, num_frames)\n",
    "intermediate_angles_z = np.linspace(np.pi/2, np.pi, num_frames)\n",
    "rotation_sequence = [(intermediate_angles_x[i], intermediate_angles_y[i], intermediate_angles_z[i]) for i in range(num_frames)] \n",
    "create_movie(name, rotation_sequence)"
   ]
  },
  {
   "cell_type": "code",
   "execution_count": null,
   "metadata": {},
   "outputs": [],
   "source": []
  }
 ],
 "metadata": {
  "kernelspec": {
   "display_name": "Python 3",
   "language": "python",
   "name": "python3"
  },
  "language_info": {
   "codemirror_mode": {
    "name": "ipython",
    "version": 3
   },
   "file_extension": ".py",
   "mimetype": "text/x-python",
   "name": "python",
   "nbconvert_exporter": "python",
   "pygments_lexer": "ipython3",
   "version": "3.6.6"
  }
 },
 "nbformat": 4,
 "nbformat_minor": 2
}
