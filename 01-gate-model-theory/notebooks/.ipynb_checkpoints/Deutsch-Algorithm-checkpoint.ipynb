{
 "cells": [
  {
   "cell_type": "markdown",
   "metadata": {},
   "source": [
    "# Deutsch's algorithm"
   ]
  },
  {
   "cell_type": "code",
   "execution_count": null,
   "metadata": {},
   "outputs": [],
   "source": [
    "import numpy as np\n",
    "\n",
    "from qiskit import QuantumRegister, ClassicalRegister\n",
    "from qiskit import QuantumCircuit\n",
    "from qiskit import execute, BasicAer\n",
    "\n",
    "import qiskit.tools.visualization as qvis\n",
    "\n",
    "import warnings\n",
    "warnings.filterwarnings(\"ignore\", category=DeprecationWarning) "
   ]
  },
  {
   "cell_type": "markdown",
   "metadata": {},
   "source": [
    "Deutsch's algorithm allows us to perform a task using fewer queries quantumly than are needed classically.\n",
    "\n",
    "Suppose we have some function $f$, that we know to be one of the 4 following functions:\n",
    "\n",
    "| Function ($f$) |   $f$(0)    | $f$(1) |\n",
    "| --- | -------- | -------- |\n",
    "| `constant_zero`| 0 | 0|\n",
    "| `constant_one` | 1| 1 |\n",
    "| `balanced_id` | 0| 1 |\n",
    "| `balanced_not`| 1 | 0 |\n",
    "\n",
    "The two \"constant\" functions output the same value no matter the input, whereas the balanced functions output different values for each input.\n"
   ]
  },
  {
   "cell_type": "markdown",
   "metadata": {},
   "source": [
    "## Our task\n",
    "\n",
    "We are given a black box that we know implements one of: `constant_zero`, `constant_one`, `balanced_id`, `balanced_not`. We are allowed to query the box (i.e. ask for $f(x)$ for either $x= 0, 1$) as many times as we need. _How many queries are needed to determine with certainty which function the box implements_?\n",
    "\n",
    "Let's choose one of the four functions randomly."
   ]
  },
  {
   "cell_type": "code",
   "execution_count": null,
   "metadata": {},
   "outputs": [],
   "source": [
    "function_names = ['constant_zero', 'constant_one', 'balanced_id', 'balanced_not']\n",
    "oracle = function_names[np.random.randint(4)]"
   ]
  },
  {
   "cell_type": "markdown",
   "metadata": {},
   "source": [
    "### Classical solution\n",
    "\n",
    "We _must_ query twice. For example, if we query $f(0)$ and receive $0$, we know we must have `constant_zero` or `balanced_id`, but we still can't pin down the exact function without querying a second time.  "
   ]
  },
  {
   "cell_type": "markdown",
   "metadata": {},
   "source": [
    "### Quantum solution\n",
    "\n",
    "We can perform this task with only a _single_ query using two qubits."
   ]
  },
  {
   "cell_type": "markdown",
   "metadata": {},
   "source": [
    "Our oracle $U_f$ is going to implement the following transformation:\n",
    "\\begin{equation}\n",
    " U_f|x\\rangle|y\\rangle = |x\\rangle|y\\oplus f(x) \\rangle\n",
    "\\end{equation}\n",
    "where $f$ will be replaced with one of the four functions above, and $\\oplus$ indicates addition modulo 2.\n",
    "\n",
    "For example, if $f$ is `constant_one`,\n",
    "\\begin{eqnarray}\n",
    " U_f|00\\rangle &=& |01\\rangle \\\\\n",
    " U_f|01\\rangle &=& |00\\rangle \\\\\n",
    " U_f|10\\rangle &=& |11\\rangle \\\\\n",
    " U_f|11\\rangle &=& |10\\rangle\n",
    "\\end{eqnarray}\n",
    "\n",
    "From this you can see that each function will produce a different permutation of the computational basis states. \n",
    "\n",
    "**Exercise**: Compute the unitary matrix associated with each function, and write out the quantum circuit that implements it. (The answers are shown further down because we need them for the demo, but you can still compute them yourself to understand how they work.)"
   ]
  },
  {
   "cell_type": "markdown",
   "metadata": {},
   "source": [
    "To execute Deutsch's algorithm, we'll follow the steps as shown in class. We begin with the state \n",
    "\\begin{equation} |+-\\rangle =\n",
    " \\left(\\frac{|0\\rangle + |1\\rangle}{\\sqrt{2}}\\right) \\otimes \\left(\\frac{|0\\rangle - |1\\rangle}{\\sqrt{2}}\\right) = \\frac{1}{2}\\left(|00\\rangle - |01\\rangle + |10\\rangle - |11\\rangle \\right)\n",
    "\\end{equation}"
   ]
  },
  {
   "cell_type": "markdown",
   "metadata": {},
   "source": [
    "Let's set up the quantum and classical registers and prepare it:"
   ]
  },
  {
   "cell_type": "code",
   "execution_count": null,
   "metadata": {},
   "outputs": [],
   "source": [
    "q = QuantumRegister(2)\n",
    "c = ClassicalRegister(1)\n",
    "\n",
    "circ = QuantumCircuit(q, c)"
   ]
  },
  {
   "cell_type": "code",
   "execution_count": null,
   "metadata": {},
   "outputs": [],
   "source": [
    "# Prepares the state |+-> starting from |00>\n",
    "circ.h(q[0])\n",
    "circ.x(q[1])\n",
    "circ.h(q[1]);"
   ]
  },
  {
   "cell_type": "markdown",
   "metadata": {},
   "source": [
    "Let's now apply the oracle circuit:"
   ]
  },
  {
   "cell_type": "code",
   "execution_count": null,
   "metadata": {},
   "outputs": [],
   "source": [
    "# Here are the quantum circuits for each of our functions\n",
    "# If the circuit is 'constant_zero', we do nothing.\n",
    "if oracle == 'constant_one':\n",
    "    circ.x(q[1])\n",
    "elif oracle == 'balanced_id':\n",
    "    circ.cx(q[0], q[1])\n",
    "elif oracle == 'balanced_not':\n",
    "    circ.x(q[0])\n",
    "    circ.cx(q[0], q[1])"
   ]
  },
  {
   "cell_type": "markdown",
   "metadata": {},
   "source": [
    "We saw in the lectures that after calling the oracle, if the function is constant, we get a $|+\\rangle$ on the first qubit, but when it is balanced, we get $|-\\rangle$. We can combine all these results into a compact form:\n",
    "\n",
    "\\begin{equation}\n",
    " U_f|+\\rangle |- \\rangle =  \\left( \\frac{|0\\rangle + (-1)^{f(0) \\oplus f(1)}|1\\rangle}{\\sqrt{2}} \\right) \\otimes \\left( \\frac{|0\\rangle - |1\\rangle}{\\sqrt{2}} \\right)\n",
    " \\end{equation}"
   ]
  },
  {
   "cell_type": "markdown",
   "metadata": {},
   "source": [
    "We can then determine the value of $f(0) \\oplus f(1)$, by applying a Hadamard to the first qubit to perform a basis change back to the computational basis, and then measuring. We should obtain:\n",
    "\\begin{equation}\n",
    " |f(0)\\oplus f(1) \\rangle \\otimes |-\\rangle\n",
    "\\end{equation}\n",
    "\n",
    "If the function is constant, $f(0) \\oplus f(1) = 0$ and so the first qubit will be in state $|0\\rangle$. Similarly, if it is balanced, the first qubit will be in state $|1\\rangle$. Does this work?"
   ]
  },
  {
   "cell_type": "code",
   "execution_count": null,
   "metadata": {},
   "outputs": [],
   "source": [
    "# Convert the first qubit back to the computational basis and measure\n",
    "circ.h(q[0])\n",
    "circ.measure(q[0], c[0])\n",
    "\n",
    "# Execute the circuit a single time to get the measurement outcome\n",
    "backend = BasicAer.get_backend('qasm_simulator')\n",
    "result = execute(circ, backend, shots = 1).result()\n",
    "counts = result.get_counts()\n",
    "\n",
    "if list(counts.keys())[0] == '0': # c[0] is a tuple of the register and the measurement value\n",
    "    print(\"Measured first qubit in state |0>, function is constant.\")\n",
    "else:\n",
    "    print(\"Measured first qubit in state |1>, function is balanced.\")"
   ]
  },
  {
   "cell_type": "markdown",
   "metadata": {},
   "source": [
    "Were we correct? Let's see which function the oracle had chosen to implement."
   ]
  },
  {
   "cell_type": "code",
   "execution_count": null,
   "metadata": {},
   "outputs": [],
   "source": [
    "print(f\"The function implemented by the oracle is '{oracle}'\")"
   ]
  },
  {
   "cell_type": "markdown",
   "metadata": {},
   "source": [
    "Deutsch's algorithm can also be generalized to the Deutsch-Josza algorithm when $f$ is a function on $n$ bits. No matter the value of $n$, it is still possible to determine whether $f$ is constant or balanced with a single query."
   ]
  }
 ],
 "metadata": {
  "kernelspec": {
   "display_name": "Python 3",
   "language": "python",
   "name": "python3"
  },
  "language_info": {
   "codemirror_mode": {
    "name": "ipython",
    "version": 3
   },
   "file_extension": ".py",
   "mimetype": "text/x-python",
   "name": "python",
   "nbconvert_exporter": "python",
   "pygments_lexer": "ipython3",
   "version": "3.6.6"
  }
 },
 "nbformat": 4,
 "nbformat_minor": 2
}
