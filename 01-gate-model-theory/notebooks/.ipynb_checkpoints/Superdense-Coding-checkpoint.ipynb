{
 "cells": [
  {
   "cell_type": "markdown",
   "metadata": {},
   "source": [
    "# Superdense coding"
   ]
  },
  {
   "cell_type": "markdown",
   "metadata": {},
   "source": [
    "Alice has 2 classical bits she wants to send to Bob. Without quantum computing, Alice would have to send Bob 2 bits, one per piece information. But in fact, it is possible to send both bits using just 1 qubit!\n",
    "\n",
    "Like many protocols in quantum computing, the key is making use of the entangled state\n",
    "\\begin{equation}\n",
    " |\\Psi\\rangle = \\frac{1}{\\sqrt{2}} \\left( |00\\rangle + |11 \\rangle \\right)\n",
    "\\end{equation}\n",
    "\n",
    "We will see that if Alice and Bob each have a qubit of this entangled state, Alice can manipulate her qubit such that Bob is able to obtain both bits."
   ]
  },
  {
   "cell_type": "code",
   "execution_count": 1,
   "metadata": {},
   "outputs": [],
   "source": [
    "import numpy as np\n",
    "\n",
    "from qiskit import QuantumRegister, ClassicalRegister\n",
    "from qiskit import QuantumCircuit\n",
    "from qiskit import execute, BasicAer\n",
    "\n",
    "import qiskit.tools.visualization as qvis\n",
    "\n",
    "import warnings\n",
    "warnings.filterwarnings(\"ignore\", category=DeprecationWarning) "
   ]
  },
  {
   "cell_type": "markdown",
   "metadata": {},
   "source": [
    "Let's give Alice two bits at random."
   ]
  },
  {
   "cell_type": "code",
   "execution_count": 2,
   "metadata": {},
   "outputs": [
    {
     "name": "stdout",
     "output_type": "stream",
     "text": [
      "Alice wants to send Bob the bits 0 and 1.\n"
     ]
    }
   ],
   "source": [
    "alice_bits = [int(x) for x in np.round(np.random.rand(2))]\n",
    "print(f\"Alice wants to send Bob the bits {alice_bits[0]} and {alice_bits[1]}.\")"
   ]
  },
  {
   "cell_type": "markdown",
   "metadata": {},
   "source": [
    "First, let's set up the shared entangled state."
   ]
  },
  {
   "cell_type": "code",
   "execution_count": 3,
   "metadata": {},
   "outputs": [
    {
     "data": {
      "text/html": [
       "<pre style=\"word-wrap: normal;white-space: pre;line-height: 15px;\">        ┌───┐     \n",
       "a_0: |0>┤ H ├──■──\n",
       "        └───┘┌─┴─┐\n",
       "b_0: |0>─────┤ X ├\n",
       "             └───┘\n",
       " m_0: 0 ══════════\n",
       "                  \n",
       " m_1: 0 ══════════\n",
       "                  </pre>"
      ],
      "text/plain": [
       "<qiskit.visualization.text.TextDrawing at 0x1a2f05b320>"
      ]
     },
     "execution_count": 3,
     "metadata": {},
     "output_type": "execute_result"
    }
   ],
   "source": [
    "# One qubit each for Alice and Bob\n",
    "alice = QuantumRegister(1, 'a')\n",
    "bob = QuantumRegister(1, 'b')\n",
    "\n",
    "# Bob needs to measure his qubits, so this is a classical register to store results\n",
    "bob_outputs = ClassicalRegister(2, 'm')\n",
    "\n",
    "# Initialize a quantum circuit\n",
    "superdense_circuit = QuantumCircuit(alice, bob, bob_outputs)\n",
    "\n",
    "# Create the entangled state\n",
    "superdense_circuit.h(alice[0])\n",
    "superdense_circuit.cx(alice[0], bob[0]);\n",
    "\n",
    "superdense_circuit.draw()"
   ]
  },
  {
   "cell_type": "markdown",
   "metadata": {},
   "source": [
    "Now, based on Alice's bits, she's going to perform one of the following operations to her qubit:\n",
    "\\begin{eqnarray}\n",
    " 00 &\\rightarrow& I \\\\\n",
    " 01 &\\rightarrow& X \\\\\n",
    " 10 &\\rightarrow& Z \\\\\n",
    " 11 &\\rightarrow& ZX \\\\\n",
    "\\end{eqnarray}"
   ]
  },
  {
   "cell_type": "code",
   "execution_count": 4,
   "metadata": {},
   "outputs": [
    {
     "name": "stdout",
     "output_type": "stream",
     "text": [
      "Alice applies the X gate.\n"
     ]
    },
    {
     "data": {
      "text/html": [
       "<pre style=\"word-wrap: normal;white-space: pre;line-height: 15px;\">        ┌───┐     ┌───┐\n",
       "a_0: |0>┤ H ├──■──┤ X ├\n",
       "        └───┘┌─┴─┐└───┘\n",
       "b_0: |0>─────┤ X ├─────\n",
       "             └───┘     \n",
       " m_0: 0 ═══════════════\n",
       "                       \n",
       " m_1: 0 ═══════════════\n",
       "                       </pre>"
      ],
      "text/plain": [
       "<qiskit.visualization.text.TextDrawing at 0x1a2f17fd68>"
      ]
     },
     "execution_count": 4,
     "metadata": {},
     "output_type": "execute_result"
    }
   ],
   "source": [
    "if alice_bits[0] == 0 and alice_bits[1] == 1:\n",
    "    superdense_circuit.x(alice[0])\n",
    "    print(\"Alice applies the X gate.\")\n",
    "elif alice_bits[0] == 1 and alice_bits[1] == 0:\n",
    "    superdense_circuit.z(alice[0])\n",
    "    print(\"Alice applies the Z gate.\")\n",
    "elif alice_bits[0] == 1 and alice_bits[1] == 1:\n",
    "    superdense_circuit.x(alice[0])\n",
    "    superdense_circuit.z(alice[0])\n",
    "    print(\"Alice applies the X gate followed by the Z gate.\")\n",
    "else:\n",
    "    print(\"Alice does nothing else to her qubits.\")\n",
    "    \n",
    "superdense_circuit.draw()"
   ]
  },
  {
   "cell_type": "markdown",
   "metadata": {},
   "source": [
    "You might notice that this looks suspiciously similar to the circuits we made in notebook 01-03, where we constructed all four Bell states - this is exactly what Alice has done! She has performed a basis change; based on her first two bits, the two qubits are now in the state\n",
    "\n",
    "\\begin{eqnarray}\n",
    " 00 &\\rightarrow& \\frac{1}{\\sqrt{2}} \\left( |00\\rangle + |11 \\rangle \\right) \\\\\n",
    " 01 &\\rightarrow& \\frac{1}{\\sqrt{2}} \\left( |10\\rangle + |01 \\rangle \\right) \\\\\n",
    " 10 &\\rightarrow& \\frac{1}{\\sqrt{2}} \\left( |00\\rangle - |11 \\rangle \\right) \\\\\n",
    " 11 &\\rightarrow& \\frac{1}{\\sqrt{2}} \\left( |01\\rangle - |10 \\rangle \\right) \n",
    "\\end{eqnarray}"
   ]
  },
  {
   "cell_type": "markdown",
   "metadata": {},
   "source": [
    "Alice proceeds to send her qubit to Bob. With both qubits in hand, Bob has to make a measurement in the Bell basis. Depending on which of the four states he gets, he will know exactly which bits Alice sent.\n",
    "\n",
    "Note: Qiskit doesn't have an implementation for measuring directly in the Bell basis, so we will need to do a basis change to get us back to the computational basis. This is just a CNOT from qubit 1 to 2 and then a Hadamard on qubit 1."
   ]
  },
  {
   "cell_type": "code",
   "execution_count": 5,
   "metadata": {},
   "outputs": [
    {
     "data": {
      "text/html": [
       "<pre style=\"word-wrap: normal;white-space: pre;line-height: 15px;\">        ┌───┐     ┌───┐     ┌───┐\n",
       "a_0: |0>┤ H ├──■──┤ X ├──■──┤ H ├\n",
       "        └───┘┌─┴─┐└───┘┌─┴─┐└───┘\n",
       "b_0: |0>─────┤ X ├─────┤ X ├─────\n",
       "             └───┘     └───┘     \n",
       " m_0: 0 ═════════════════════════\n",
       "                                 \n",
       " m_1: 0 ═════════════════════════\n",
       "                                 </pre>"
      ],
      "text/plain": [
       "<qiskit.visualization.text.TextDrawing at 0x1a1fa907b8>"
      ]
     },
     "execution_count": 5,
     "metadata": {},
     "output_type": "execute_result"
    }
   ],
   "source": [
    "# Basis change from Bell basis to computational basis\n",
    "superdense_circuit.cx(alice[0], bob[0]) # Technically Bob now has both qubits\n",
    "superdense_circuit.h(alice[0]);\n",
    "\n",
    "superdense_circuit.draw()"
   ]
  },
  {
   "cell_type": "markdown",
   "metadata": {},
   "source": [
    "Now let's measure Bob's qubits. "
   ]
  },
  {
   "cell_type": "code",
   "execution_count": 6,
   "metadata": {},
   "outputs": [
    {
     "data": {
      "text/html": [
       "<pre style=\"word-wrap: normal;white-space: pre;line-height: 15px;\">        ┌───┐     ┌───┐     ┌───┐┌─┐\n",
       "a_0: |0>┤ H ├──■──┤ X ├──■──┤ H ├┤M├\n",
       "        └───┘┌─┴─┐└───┘┌─┴─┐└┬─┬┘└╥┘\n",
       "b_0: |0>─────┤ X ├─────┤ X ├─┤M├──╫─\n",
       "             └───┘     └───┘ └╥┘  ║ \n",
       " m_0: 0 ══════════════════════╬═══╩═\n",
       "                              ║     \n",
       " m_1: 0 ══════════════════════╩═════\n",
       "                                    </pre>"
      ],
      "text/plain": [
       "<qiskit.visualization.text.TextDrawing at 0x1a2f05b2b0>"
      ]
     },
     "execution_count": 6,
     "metadata": {},
     "output_type": "execute_result"
    }
   ],
   "source": [
    "superdense_circuit.measure(alice[0], bob_outputs[0])\n",
    "superdense_circuit.measure(bob[0], bob_outputs[1]);\n",
    "\n",
    "superdense_circuit.draw()"
   ]
  },
  {
   "cell_type": "markdown",
   "metadata": {},
   "source": [
    "We'll run the circuit only a single time - we should get the answer right away...\n",
    "\n",
    "Note: registers in Qiskit circuits are ordered in 'reverse'. So when we measure, we are actually getting something like $... b_2 b_1 b_0$. To make sure the bits are ordered correctly with respect to the problem, then, we have to reverse the output of the result."
   ]
  },
  {
   "cell_type": "code",
   "execution_count": 7,
   "metadata": {},
   "outputs": [],
   "source": [
    "# Execute the quantum circuit\n",
    "backend = BasicAer.get_backend('qasm_simulator')\n",
    "result = execute(superdense_circuit, backend, shots = 1).result()\n",
    "counts = result.get_counts()\n",
    "\n",
    "# Counts is a dictionary and the keys are bit strings; take the first one and split\n",
    "bob_bits = list(list(counts.keys())[0])\n",
    "bob_bits.reverse()"
   ]
  },
  {
   "cell_type": "code",
   "execution_count": 8,
   "metadata": {},
   "outputs": [
    {
     "name": "stdout",
     "output_type": "stream",
     "text": [
      "Alice sent Bob bits 0 and 1.\n",
      "Bob received bits 0 and 1 from Alice\n"
     ]
    }
   ],
   "source": [
    "print(f\"Alice sent Bob bits {alice_bits[0]} and {alice_bits[1]}.\")\n",
    "print(f\"Bob received bits {bob_bits[0]} and {bob_bits[1]} from Alice\")"
   ]
  }
 ],
 "metadata": {
  "kernelspec": {
   "display_name": "Python 3",
   "language": "python",
   "name": "python3"
  },
  "language_info": {
   "codemirror_mode": {
    "name": "ipython",
    "version": 3
   },
   "file_extension": ".py",
   "mimetype": "text/x-python",
   "name": "python",
   "nbconvert_exporter": "python",
   "pygments_lexer": "ipython3",
   "version": "3.6.6"
  }
 },
 "nbformat": 4,
 "nbformat_minor": 2
}
