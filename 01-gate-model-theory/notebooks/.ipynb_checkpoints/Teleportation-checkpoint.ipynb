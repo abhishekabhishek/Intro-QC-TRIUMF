{
 "cells": [
  {
   "cell_type": "markdown",
   "metadata": {},
   "source": [
    "# Quantum teleportation"
   ]
  },
  {
   "cell_type": "markdown",
   "metadata": {},
   "source": [
    "We may not be able to clone arbitrary quantum states, but we can do something arguably cooler - we can teleport them! If Alice and Bob share an entangled pair of qubits in the state\n",
    "\\begin{equation}\n",
    " |\\Psi\\rangle = \\frac{1}{\\sqrt{2}} \\left( |00\\rangle + |11 \\rangle \\right),\n",
    "\\end{equation}\n",
    "then they can use it to transfer the state of a third qubit to Bob.\n",
    "\n",
    "**Important!** Teleportation does not mean that the physical qubit held by Alice is being shipped to Bob. Rather, the _state_ of Alice's qubit will be 'transferred' to the qubit held by Bob following the protocol."
   ]
  },
  {
   "cell_type": "code",
   "execution_count": null,
   "metadata": {},
   "outputs": [],
   "source": [
    "import numpy as np\n",
    "\n",
    "from qiskit import QuantumRegister, ClassicalRegister\n",
    "from qiskit import QuantumCircuit\n",
    "from qiskit import execute, BasicAer\n",
    "\n",
    "import qiskit.tools.visualization as qvis\n",
    "\n",
    "import warnings\n",
    "warnings.filterwarnings(\"ignore\", category=DeprecationWarning) "
   ]
  },
  {
   "cell_type": "markdown",
   "metadata": {},
   "source": [
    "First we'll set up the qubit registers and the circuit."
   ]
  },
  {
   "cell_type": "code",
   "execution_count": null,
   "metadata": {},
   "outputs": [],
   "source": [
    "# Set up the quantum circuit; Alice holds qubits 0 and 1, and Bob has qubit 2\n",
    "# We need quantum register with 3 qubits, and classical register with 2 qubits\n",
    "alice = QuantumRegister(2, 'a')\n",
    "bob = QuantumRegister(1, 'b')\n",
    "measurement_0 = ClassicalRegister(1, 'm0')\n",
    "measurement_1 = ClassicalRegister(1, 'm1')\n",
    "\n",
    "teleportation = QuantumCircuit(alice, bob, measurement_0, measurement_1)"
   ]
  },
  {
   "cell_type": "markdown",
   "metadata": {},
   "source": [
    "Next we'll give Alice a random initial state to teleport. We'll do so by sending randomly chosen angles as parameters to a general unitary rotation gate."
   ]
  },
  {
   "cell_type": "code",
   "execution_count": null,
   "metadata": {},
   "outputs": [],
   "source": [
    "# Prepare a random single-qubit state that we would like to send\n",
    "random_angles = np.random.rand(3)\n",
    "teleportation.u3(*random_angles, alice[0])\n",
    "\n",
    "teleportation.draw()"
   ]
  },
  {
   "cell_type": "markdown",
   "metadata": {},
   "source": [
    "Let's see on the Bloch sphere where this state is..."
   ]
  },
  {
   "cell_type": "code",
   "execution_count": null,
   "metadata": {},
   "outputs": [],
   "source": [
    "# To plot the Bloch vectors we will have to extract the state from the \n",
    "# statevector simulator.\n",
    "backend = BasicAer.get_backend('statevector_simulator') # the device to run on\n",
    "result = execute(teleportation, backend).result()\n",
    "initial_psi  = result.get_statevector(teleportation)\n",
    "\n",
    "qvis.plot_bloch_multivector(initial_psi)"
   ]
  },
  {
   "cell_type": "markdown",
   "metadata": {},
   "source": [
    "Note that qubit 1 and qubit 2 are still in state $|0\\rangle$; our next step is to prepare the shared entangled state. "
   ]
  },
  {
   "cell_type": "code",
   "execution_count": null,
   "metadata": {},
   "outputs": [],
   "source": [
    "# Prepare an entangled state for Alice and Bob to share\n",
    "teleportation.h(alice[1])\n",
    "teleportation.cx(alice[1], bob[0])\n",
    "\n",
    "teleportation.draw()"
   ]
  },
  {
   "cell_type": "markdown",
   "metadata": {},
   "source": [
    "Now that everything is set up, to teleport the qubit, Alice is going to entangle the qubit she wants to send with the qubit she holds from the entangled pair."
   ]
  },
  {
   "cell_type": "code",
   "execution_count": null,
   "metadata": {},
   "outputs": [],
   "source": [
    "# Now entangle Alice's first qubit with the first qubit of shared Bell state\n",
    "teleportation.cx(alice[0], alice[1])\n",
    "teleportation.h(alice[0])\n",
    "\n",
    "teleportation.draw()"
   ]
  },
  {
   "cell_type": "markdown",
   "metadata": {},
   "source": [
    "Next she will measure both her qubits, giving her two classical bits."
   ]
  },
  {
   "cell_type": "code",
   "execution_count": null,
   "metadata": {},
   "outputs": [],
   "source": [
    "# Execute circuit and get 2 measurement outcomes\n",
    "teleportation.measure(alice[0], measurement_0[0])\n",
    "teleportation.measure(alice[1], measurement_1[0])\n",
    "\n",
    "teleportation.draw()"
   ]
  },
  {
   "cell_type": "markdown",
   "metadata": {},
   "source": [
    "Alice phones Bob and tells him what bits she measured. Based on the outcomes, Bob will apply some Pauli gates to his half of the entangled state:\n",
    "\\begin{eqnarray}\n",
    " 00 &\\rightarrow& I \\\\\n",
    " 01 &\\rightarrow& X \\\\\n",
    " 10 &\\rightarrow& Z \\\\\n",
    " 11 &\\rightarrow& ZX\n",
    "\\end{eqnarray}\n",
    "In the circuit these can be expressed as controlled gates using the classical outcomes as controls rather than normal qubits."
   ]
  },
  {
   "cell_type": "code",
   "execution_count": null,
   "metadata": {},
   "outputs": [],
   "source": [
    "# Based on outcomes, apply X, Z, or XZ\n",
    "teleportation.x(bob[0]).c_if(measurement_1, 1)\n",
    "teleportation.z(bob[0]).c_if(measurement_0, 1)\n",
    "\n",
    "teleportation.draw()"
   ]
  },
  {
   "cell_type": "markdown",
   "metadata": {},
   "source": [
    "After Bob applies his Paulis, his qubit will be in exactly the same state as the one Alice prepared! Let's plot the Bloch vectors to make sure."
   ]
  },
  {
   "cell_type": "code",
   "execution_count": null,
   "metadata": {},
   "outputs": [],
   "source": [
    "# Execute the full circuit\n",
    "result = execute(teleportation, backend).result()\n",
    "final_psi  = result.get_statevector(teleportation)"
   ]
  },
  {
   "cell_type": "code",
   "execution_count": null,
   "metadata": {},
   "outputs": [],
   "source": [
    "qvis.plot_bloch_multivector(initial_psi)"
   ]
  },
  {
   "cell_type": "code",
   "execution_count": null,
   "metadata": {},
   "outputs": [],
   "source": [
    "qvis.plot_bloch_multivector(final_psi)"
   ]
  },
  {
   "cell_type": "markdown",
   "metadata": {},
   "source": [
    "Qubit 2, Bob's qubit, matches the initial state of Alice's qubit 0. Note that after the protocol, Alice's two qubits will be sitting in whatever states correspond to her classical measurement outcomes.   "
   ]
  },
  {
   "cell_type": "markdown",
   "metadata": {},
   "source": [
    "**Exercise**: starting from the state\n",
    "\\begin{equation}\n",
    " \\left( \\alpha |0\\rangle + \\beta |1 \\rangle \\right) \\otimes \\frac{1}{\\sqrt{2}} \\left( |00\\rangle + |11 \\rangle \\right),\n",
    "\\end{equation}\n",
    "work through the teleportation protocol to see how Alice's state gets transferred to Bob. You'll have to expand everything, then perform a basis change on Alice's two qubits to shift them into the Bell basis. After, Alice performs the CNOT and H before measuring; this changes back to the computational basis so we can interpret the measurements more easily. You'll see, after this transformation, each of the computational basis states will be attached to a slightly different version of the original state in Bob's qubit, which can easily be undone with the Pauli operators."
   ]
  }
 ],
 "metadata": {
  "kernelspec": {
   "display_name": "Python 3",
   "language": "python",
   "name": "python3"
  },
  "language_info": {
   "codemirror_mode": {
    "name": "ipython",
    "version": 3
   },
   "file_extension": ".py",
   "mimetype": "text/x-python",
   "name": "python",
   "nbconvert_exporter": "python",
   "pygments_lexer": "ipython3",
   "version": "3.6.6"
  }
 },
 "nbformat": 4,
 "nbformat_minor": 2
}
